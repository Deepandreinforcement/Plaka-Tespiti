{
 "cells": [
  {
   "cell_type": "code",
   "execution_count": 1,
   "id": "82db1e07",
   "metadata": {},
   "outputs": [],
   "source": [
    "#!pip install ultralytics"
   ]
  },
  {
   "cell_type": "code",
   "execution_count": 2,
   "id": "71f72f60",
   "metadata": {},
   "outputs": [],
   "source": [
    "#!pip install keras_ocr"
   ]
  },
  {
   "cell_type": "code",
   "execution_count": 3,
   "id": "c246e5d2",
   "metadata": {
    "scrolled": true
   },
   "outputs": [
    {
     "name": "stdout",
     "output_type": "stream",
     "text": [
      "Looking for C:\\Users\\pc\\.keras-ocr\\craft_mlt_25k.h5\n",
      "Looking for C:\\Users\\pc\\.keras-ocr\\crnn_kurapan.h5\n"
     ]
    }
   ],
   "source": [
    "import keras_ocr\n",
    "pipeline = keras_ocr.pipeline.Pipeline()"
   ]
  },
  {
   "cell_type": "code",
   "execution_count": 4,
   "id": "5256fd07",
   "metadata": {},
   "outputs": [],
   "source": [
    "from ultralytics import YOLO\n",
    "model= YOLO(\"plate.pt\") "
   ]
  },
  {
   "cell_type": "code",
   "execution_count": 5,
   "id": "6a681ca0",
   "metadata": {},
   "outputs": [],
   "source": [
    "import cv2\n",
    "import numpy as np"
   ]
  },
  {
   "cell_type": "code",
   "execution_count": 6,
   "id": "996605b0",
   "metadata": {},
   "outputs": [],
   "source": [
    "def find_text(img):\n",
    "    \n",
    "    t={}\n",
    "    new_results=[]\n",
    "    text=''\n",
    "\n",
    "    \n",
    "    \n",
    "    #img=cv2.resize(img,(0,0), fx=2, fy=2)\n",
    "        \n",
    "        \n",
    "    results = pipeline.recognize([img])\n",
    "  \n",
    "    # Burada yazıyı çıkarırken bazı hatalar var onları önlemek için\n",
    "    # alltaki kodları yazdım. Burayı kurcalamaya gerek yok. Bu hatalar \n",
    "    # genelde harflerin sırasına yönelik. Eğer yanlış ya da eksik buldu ise\n",
    "    # bu başka bir durum oluyor\n",
    "    for r in range(len(results[0])):\n",
    "        t[r]=results[0][r][1][0][0]\n",
    "        \n",
    "    s = sorted(t.items(), key=lambda xx: xx[1])\n",
    "    for pr in range(len(results[0])):\n",
    "        new_results.append(results[0][s[pr][0]])\n",
    "            \n",
    "    for p in range(len(results[0])):\n",
    "        text+=new_results[p][0]\n",
    "        \n",
    "    text=text.upper()\n",
    "        \n",
    "    \n",
    "    return text\n",
    "    \n",
    "    \n",
    "    "
   ]
  },
  {
   "cell_type": "code",
   "execution_count": 8,
   "id": "5b586b93",
   "metadata": {
    "scrolled": true
   },
   "outputs": [
    {
     "name": "stdout",
     "output_type": "stream",
     "text": [
      "1/1 [==============================] - 0s 259ms/step\n",
      "1/1 [==============================] - 0s 433ms/step\n",
      "PLATE: MEGC8500\n"
     ]
    }
   ],
   "source": [
    "label='plate '\n",
    "font = cv2.FONT_HERSHEY_TRIPLEX\n",
    "img=cv2.imread('image1.jpg')\n",
    "rgb_img=cv2.cvtColor(img,cv2.COLOR_BGR2RGB)\n",
    "results = model(rgb_img,verbose=False) \n",
    "\n",
    "\n",
    "\n",
    "for i in range(len(results[0].boxes)):\n",
    "    x1,y1,x2,y2=results[0].boxes.xyxy[i]\n",
    "    score=results[0].boxes.conf[i]\n",
    "    \n",
    "    x1,y1,x2,y2,score=int(x1),int(y1),int(x2),int(y2),float(score)\n",
    "    \n",
    "    if score<0.7:\n",
    "        continue\n",
    "        \n",
    "    plate_img=img[y1:y2,x1:x2]\n",
    "    plate_text=find_text(plate_img)\n",
    "    \n",
    "    plate_text='PLATE: '+plate_text\n",
    "    \n",
    "    # Plaka daha net okunsun diye sol üst köşeyi beyaza boyuyorum\n",
    "    # Buradaki sayılar resmin boyutuna göre değişir\n",
    "    img[0:60,0:520]=[255,255,255]\n",
    "    cv2.putText(img, plate_text,(0, 50), font, 1.7, (102,0,153), 2)\n",
    "    cv2.rectangle(img,(x1,y1),(x2,y2),(255,0,255),2)\n",
    "    text=label+str(format(score, '.2f'))\n",
    "    cv2.putText(img, text,(x1, y1-10), font, 1.5, (0,200,255), 2)\n",
    "    \n",
    "print(plate_text)\n",
    "cv2.imshow(\"Image\",img)\n",
    "cv2.waitKey()\n",
    "cv2.destroyAllWindows()"
   ]
  }
 ],
 "metadata": {
  "kernelspec": {
   "display_name": "Python 3 (ipykernel)",
   "language": "python",
   "name": "python3"
  },
  "language_info": {
   "codemirror_mode": {
    "name": "ipython",
    "version": 3
   },
   "file_extension": ".py",
   "mimetype": "text/x-python",
   "name": "python",
   "nbconvert_exporter": "python",
   "pygments_lexer": "ipython3",
   "version": "3.9.13"
  }
 },
 "nbformat": 4,
 "nbformat_minor": 5
}
